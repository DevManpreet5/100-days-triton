{
 "cells": [
  {
   "cell_type": "code",
   "execution_count": null,
   "metadata": {},
   "outputs": [],
   "source": [
    "import triton\n",
    "import triton.language as tl\n",
    "@triton.jit \n",
    "def montecarloint(y_samples_ptr,result_ptr,a,b,n_samples,BLOCK_SIZE:tl.constexpr):\n",
    "    y_samples_ptr = y_samples_ptr.to(tl.pointer_type(tl.float32))\n",
    "    result_ptr = result_ptr.to(tl.pointer_type(tl.float32))\n",
    "    pid = tl.program_id(0)\n",
    "    block_start = pid * BLOCK_SIZE\n",
    "    offsets = block_start + tl.arange(0, BLOCK_SIZE)\n",
    "    mask = offsets < n_samples\n",
    "    x = tl.load(y_samples_ptr + offsets, mask=mask)\n",
    "    val=tl.sum(x,axis=0)\n",
    "    contribution = (b - a) * val / n_samples\n",
    "    tl.atomic_add(result_ptr, contribution)\n",
    "\n",
    "\n",
    "def solve(y_samples_ptr: int, result_ptr: int, a: float, b: float, n_samples: int):\n",
    "    BLOCK_SIZE = 512\n",
    "    grid = (triton.cdiv(n_samples, BLOCK_SIZE),)\n",
    "    montecarloint[grid](\n",
    "        y_samples_ptr, result_ptr, a,b, n_samples,\n",
    "        BLOCK_SIZE=BLOCK_SIZE\n",
    "    )\n",
    "    \n"
   ]
  }
 ],
 "metadata": {
  "language_info": {
   "name": "python"
  }
 },
 "nbformat": 4,
 "nbformat_minor": 2
}

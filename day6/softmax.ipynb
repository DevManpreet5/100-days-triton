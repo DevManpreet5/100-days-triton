{
 "cells": [
  {
   "cell_type": "code",
   "execution_count": null,
   "metadata": {},
   "outputs": [],
   "source": [
    "import triton\n",
    "import triton.language as tl\n",
    "\n",
    "@triton.jit\n",
    "def softmax_kernel(\n",
    "    input_ptr, output_ptr,\n",
    "    N,\n",
    "    BLOCK_SIZE: tl.constexpr\n",
    "):\n",
    "    input_ptr = input_ptr.to(tl.pointer_type(tl.float32))\n",
    "    output_ptr = output_ptr.to(tl.pointer_type(tl.float32))\n",
    "    _max = tl.zeros([BLOCK_SIZE], dtype=tl.float32) - float(\"inf\")\n",
    "    for off in range(0, N, BLOCK_SIZE):\n",
    "        cols = off + tl.arange(0, BLOCK_SIZE)\n",
    "        a = tl.load(input_ptr + cols, mask=cols < N, other=-float(\"inf\"))\n",
    "        _max = tl.maximum(a, _max)\n",
    "    max = tl.max(_max, axis=0)\n",
    "    _sum = tl.zeros([BLOCK_SIZE], dtype=tl.float32)\n",
    "    for off in range(0, N, BLOCK_SIZE):\n",
    "        cols = off + tl.arange(0, BLOCK_SIZE)\n",
    "        a = tl.load(input_ptr + cols, mask=cols < N, other=-float(\"inf\"))\n",
    "        _sum += tl.exp(a - max)\n",
    "    sum = tl.sum(_sum, axis=0)\n",
    "    pid = tl.program_id(0)\n",
    "    offset = pid * BLOCK_SIZE + tl.arange(0, BLOCK_SIZE)\n",
    "    mask = offset < N\n",
    "    x = tl.load(input_ptr + offset, mask=mask)\n",
    "    y = tl.exp(x - max) / sum\n",
    "    tl.store(output_ptr + offset, y, mask=mask)\n",
    "\n",
    "\n",
    "def solve(input_ptr: int, output_ptr: int, N: int):\n",
    "    BLOCK_SIZE = 32768\n",
    "    grid = (triton.cdiv(N, BLOCK_SIZE),)\n",
    "    softmax_kernel[grid](\n",
    "        input_ptr, output_ptr, N,\n",
    "        BLOCK_SIZE=BLOCK_SIZE\n",
    "    )"
   ]
  }
 ],
 "metadata": {
  "language_info": {
   "name": "python"
  }
 },
 "nbformat": 4,
 "nbformat_minor": 2
}

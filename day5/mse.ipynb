{
 "cells": [
  {
   "cell_type": "code",
   "execution_count": null,
   "metadata": {},
   "outputs": [],
   "source": [
    "import triton\n",
    "import triton.language as tl\n",
    "\n",
    "\n",
    "@triton.jit \n",
    "def msefxn(predictions_ptr,targets_ptr,mse_ptr,N,BLOCK_SIZE:tl.constexpr):\n",
    "    predictions_ptr = predictions_ptr.to(tl.pointer_type(tl.float32))\n",
    "    targets_ptr = targets_ptr.to(tl.pointer_type(tl.float32))\n",
    "    mse_ptr = mse_ptr.to(tl.pointer_type(tl.float32))\n",
    "    pid = tl.program_id(0)\n",
    "    block_start = pid * BLOCK_SIZE\n",
    "    offsets = block_start + tl.arange(0, BLOCK_SIZE)\n",
    "    mask = offsets < N\n",
    "\n",
    "    a = tl.load(predictions_ptr + offsets, mask=mask)\n",
    "    b = tl.load(targets_ptr + offsets, mask=mask) \n",
    "\n",
    "    resdal=(b-a)*(b-a)\n",
    "    val=tl.sum(resdal,axis=0)\n",
    "    tl.atomic_add(mse_ptr, val/N)\n",
    "\n",
    "\n",
    "\n",
    "def solve(predictions_ptr: int, targets_ptr: int, mse_ptr: int, N: int):\n",
    "    BLOCK_SIZE = 256\n",
    "    grid = (triton.cdiv(N, BLOCK_SIZE),)\n",
    "    msefxn[grid](\n",
    "        predictions_ptr, targets_ptr, mse_ptr, N,\n",
    "        BLOCK_SIZE=BLOCK_SIZE\n",
    "    )\n",
    "    "
   ]
  }
 ],
 "metadata": {
  "language_info": {
   "name": "python"
  }
 },
 "nbformat": 4,
 "nbformat_minor": 2
}

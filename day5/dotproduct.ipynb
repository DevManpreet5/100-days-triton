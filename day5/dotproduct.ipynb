{
 "cells": [
  {
   "cell_type": "code",
   "execution_count": null,
   "metadata": {},
   "outputs": [],
   "source": [
    "import triton\n",
    "import triton.language as tl\n",
    "\n",
    "@triton.jit\n",
    "def dotproduct(a_ptr, b_ptr, result_ptr, n, BLOCK_SIZE: tl.constexpr):\n",
    "    a_ptr = a_ptr.to(tl.pointer_type(tl.float32))\n",
    "    b_ptr = b_ptr.to(tl.pointer_type(tl.float32))\n",
    "    result_ptr = result_ptr.to(tl.pointer_type(tl.float32))\n",
    "    pid = tl.program_id(0)\n",
    "    block_start = pid * BLOCK_SIZE\n",
    "    offsets = block_start + tl.arange(0, BLOCK_SIZE)\n",
    "    mask = offsets < n\n",
    "\n",
    "    a = tl.load(a_ptr + offsets, mask=mask)\n",
    "    b = tl.load(b_ptr + offsets, mask=mask)\n",
    "    result = a * b\n",
    "    total = tl.sum(result, axis=0)\n",
    "\n",
    "    tl.atomic_add(result_ptr, total)\n",
    "\n",
    "def solve(a_ptr: int, b_ptr: int, result_ptr: int, n: int):\n",
    "    BLOCK_SIZE = 256\n",
    "    grid = (triton.cdiv(n, BLOCK_SIZE),)\n",
    "    dotproduct[grid](\n",
    "        a_ptr, b_ptr, result_ptr, n,\n",
    "        BLOCK_SIZE=BLOCK_SIZE\n",
    "    )\n"
   ]
  }
 ],
 "metadata": {
  "language_info": {
   "name": "python"
  }
 },
 "nbformat": 4,
 "nbformat_minor": 2
}
